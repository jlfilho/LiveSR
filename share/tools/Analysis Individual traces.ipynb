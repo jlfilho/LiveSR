{
 "cells": [
  {
   "cell_type": "code",
   "execution_count": 4,
   "id": "d955bbba",
   "metadata": {},
   "outputs": [],
   "source": [
    "# Load in dataframe all the traces from directory \n",
    "from metrics import parseTraces, maker_mahimahi_trace\n",
    "import pandas as pd\n",
    "from datetime import datetime\n",
    "import time\n",
    "\n",
    "input_path = '../traces/group1/'\n",
    "\n",
    "\n",
    "#t = df.time\n",
    "#bw = df['DL_bitrate']\n",
    "\n",
    "#group = \"gp1\""
   ]
  },
  {
   "cell_type": "code",
   "execution_count": 2,
   "id": "b4776261",
   "metadata": {},
   "outputs": [
    {
     "name": "stdout",
     "output_type": "stream",
     "text": [
      "input file: ../traces/group1/B_2020.02.14_09.38.22.csv\n",
      "input file: ../traces/group1/B_2019.12.14_10.16.30.csv\n",
      "input file: ../traces/group1/B_2019.11.28_10.14.25.csv\n",
      "input file: ../traces/group1/B_2019.12.16_07.22.43.csv\n",
      "input file: ../traces/group1/B_2020.02.13_13.03.24.csv\n",
      "input file: ../traces/group1/B_2019.12.16_14.23.32.csv\n",
      "input file: ../traces/group1/B_2019.11.28_07.27.57.csv\n",
      "input file: ../traces/group1/B_2019.12.01_12.11.21.csv\n",
      "input file: ../traces/group1/B_2020.02.14_07.29.00.csv\n",
      "input file: ../traces/group1/B_2019.12.04_14.24.21.csv\n",
      "input file: ../traces/group1/B_2020.02.14_12.58.17.csv\n",
      "input file: ../traces/group1/B_2019.12.03_07.29.22.csv\n",
      "input file: ../traces/group1/B_2020.02.27_20.35.57.csv\n",
      "input file: ../traces/group1/B_2019.12.02_12.41.17.csv\n",
      "input file: ../traces/group1/B_2019.12.06_11.49.24.csv\n",
      "input file: ../traces/group1/B_2019.12.06_09.32.38.csv\n",
      "input file: ../traces/group1/B_2019.12.04_07.26.30.csv\n",
      "input file: ../traces/group1/B_2019.12.17_07.32.39.csv\n",
      "input file: ../traces/group1/B_2019.12.02_09.39.35.csv\n",
      "input file: ../traces/group1/B_2019.11.29_09.37.23.csv\n",
      "input file: ../traces/group1/B_2019.12.04_11.58.01.csv\n",
      "input file: ../traces/group1/B_2019.11.28_14.53.29.csv\n",
      "input file: ../traces/group1/B_2019.12.02_07.26.15.csv\n",
      "input file: ../traces/group1/B_2019.11.25_15.34.34.csv\n",
      "input file: ../traces/group1/B_2020.01.16_09.56.56.csv\n",
      "input file: ../traces/group1/B_2020.02.27_17.30.15.csv\n",
      "input file: ../traces/group1/B_2020.02.13_15.02.01.csv\n",
      "input file: ../traces/group1/B_2019.12.06_07.31.16.csv\n",
      "input file: ../traces/group1/B_2019.12.01_13.05.00.csv\n",
      "input file: ../traces/group1/B_2019.12.03_10.42.14.csv\n",
      "input file: ../traces/group1/B_2019.12.16_12.27.05.csv\n",
      "input file: ../traces/group1/B_2020.01.16_07.26.43.csv\n",
      "input file: ../traces/group1/B_2019.12.03_13.58.03.csv\n"
     ]
    }
   ],
   "source": [
    "import os\n",
    "import pandas as pd\n",
    "\n",
    "# plot graph \n",
    "import seaborn as sns\n",
    "import matplotlib.pyplot as plt\n",
    "\n",
    "input_path = '../traces/group1/'\n",
    "\n",
    "%matplotlib inline\n",
    "frames = []\n",
    "for dirpath, subdirpath, filenames in os.walk(input_path):\n",
    "        for filename in [f for f in filenames if any(filetype in f.lower() for filetype in ['csv'])]:\n",
    "            current_file = os.path.join(dirpath, filename)\n",
    "            print(\"input file: {}\".format(current_file))\n",
    "            df = pd.read_csv(current_file)\n",
    "            df['tracer']= filename.split('.')[4]\n",
    "            frames.append(df)\n",
    "result = pd.concat(frames)"
   ]
  },
  {
   "cell_type": "code",
   "execution_count": 27,
   "id": "c5d86335",
   "metadata": {},
   "outputs": [
    {
     "data": {
      "text/html": [
       "<div>\n",
       "<style scoped>\n",
       "    .dataframe tbody tr th:only-of-type {\n",
       "        vertical-align: middle;\n",
       "    }\n",
       "\n",
       "    .dataframe tbody tr th {\n",
       "        vertical-align: top;\n",
       "    }\n",
       "\n",
       "    .dataframe thead th {\n",
       "        text-align: right;\n",
       "    }\n",
       "</style>\n",
       "<table border=\"1\" class=\"dataframe\">\n",
       "  <thead>\n",
       "    <tr style=\"text-align: right;\">\n",
       "      <th></th>\n",
       "      <th>time</th>\n",
       "      <th>DL_bitrate</th>\n",
       "      <th>tracer</th>\n",
       "    </tr>\n",
       "  </thead>\n",
       "  <tbody>\n",
       "    <tr>\n",
       "      <th>0</th>\n",
       "      <td>0</td>\n",
       "      <td>4183</td>\n",
       "      <td>22</td>\n",
       "    </tr>\n",
       "    <tr>\n",
       "      <th>1</th>\n",
       "      <td>1</td>\n",
       "      <td>4183</td>\n",
       "      <td>22</td>\n",
       "    </tr>\n",
       "    <tr>\n",
       "      <th>2</th>\n",
       "      <td>2</td>\n",
       "      <td>1807</td>\n",
       "      <td>22</td>\n",
       "    </tr>\n",
       "    <tr>\n",
       "      <th>3</th>\n",
       "      <td>3</td>\n",
       "      <td>2492</td>\n",
       "      <td>22</td>\n",
       "    </tr>\n",
       "    <tr>\n",
       "      <th>4</th>\n",
       "      <td>4</td>\n",
       "      <td>4001</td>\n",
       "      <td>22</td>\n",
       "    </tr>\n",
       "  </tbody>\n",
       "</table>\n",
       "</div>"
      ],
      "text/plain": [
       "   time  DL_bitrate tracer\n",
       "0     0        4183     22\n",
       "1     1        4183     22\n",
       "2     2        1807     22\n",
       "3     3        2492     22\n",
       "4     4        4001     22"
      ]
     },
     "execution_count": 27,
     "metadata": {},
     "output_type": "execute_result"
    }
   ],
   "source": [
    "result.head()"
   ]
  },
  {
   "cell_type": "code",
   "execution_count": 29,
   "id": "5002bc5b",
   "metadata": {},
   "outputs": [
    {
     "name": "stderr",
     "output_type": "stream",
     "text": [
      "No handles with labels found to put in legend.\n"
     ]
    },
    {
     "data": {
      "image/png": "[encoded data removed]",
      "text/plain": [
       "<Figure size 432x288 with 1 Axes>"
      ]
     },
     "metadata": {},
     "output_type": "display_data"
    }
   ],
   "source": [
    "sns.set_theme(style=\"whitegrid\")\n",
    "ax = sns.boxplot(x=\"tracer\", y=\"DL_bitrate\", data=result,rotat)\n",
    "    \n",
    "plt.xlabel('Bandwidth (kbps)', fontsize=12)\n",
    "plt.legend()\n",
    "plt.show()"
   ]
  },
  {
   "cell_type": "code",
   "execution_count": 36,
   "id": "f5775a97",
   "metadata": {},
   "outputs": [
    {
     "name": "stdout",
     "output_type": "stream",
     "text": [
      "         DL_bitrate                          ci_hi        ci_lo\n",
      "               mean count         std                          \n",
      "tracer                                                         \n",
      "00      2796.028169   355  794.439016  2878.668963  2713.387375\n",
      "01      2738.319955   897  739.127047  2786.689385  2689.950526\n",
      "03      2405.085635   362  682.018189  2475.342661  2334.828609\n",
      "05      2813.361842   152  790.491167  2939.029441  2687.694243\n",
      "14      2271.328358   134  534.038012  2361.749058  2180.907659\n",
      "15      2676.486239   545  761.970998  2740.457996  2612.514481\n",
      "16      2513.837321   627  689.918773  2567.839624  2459.835017\n",
      "17      2758.477876   452  742.134933  2826.894517  2690.061235\n",
      "21      2536.822835   254  687.903417  2621.420563  2452.225107\n",
      "22      2888.375940   399  793.569519  2966.241717  2810.510163\n",
      "23      2370.084821   224  622.818357  2451.646374  2288.523268\n",
      "24      2687.458268   635  808.036813  2750.306400  2624.610135\n",
      "25      2221.190141   142  502.015412  2303.759891  2138.620391\n",
      "29      2205.578475   446  529.601883  2254.729229  2156.427722\n",
      "30      2566.736059   538  741.556068  2629.397582  2504.074537\n",
      "32      2934.514286   280  776.882646  3025.510745  2843.517826\n",
      "34      2758.387755    98  766.920897  2910.227556  2606.547954\n",
      "35      2556.520325   123  752.451832  2689.496624  2423.544027\n",
      "38      2467.285714   112  704.763451  2597.807334  2336.764095\n",
      "39      3039.467066   167  820.560136  3163.918604  2915.015527\n",
      "43      2980.090680   397  769.351762  3055.770099  2904.411261\n",
      "56      2950.689922   129  763.741917  3082.485204  2818.894641\n",
      "57      2492.217002   447  721.422436  2559.095110  2425.338895\n"
     ]
    },
    {
     "data": {
      "image/png": "[encoded data removed]",
      "text/plain": [
       "<Figure size 792x504 with 1 Axes>"
      ]
     },
     "metadata": {},
     "output_type": "display_data"
    }
   ],
   "source": [
    "import math \n",
    "import scipy.stats as st\n",
    "import numpy as np\n",
    "\n",
    "def conf_intervals(stats,ci=0.95):\n",
    "    ci_hi = []\n",
    "    ci_lo = []\n",
    "    for i in stats.index:\n",
    "        m, c, s = stats.loc[i]\n",
    "        if(c >= 30):\n",
    "            ci_=st.norm.interval(alpha=ci, loc=m, scale=s/np.sqrt(c))\n",
    "        else:\n",
    "            ci_=st.t.interval(alpha=0.95, df=c-1, loc=m, scale=s/np.sqrt(c))\n",
    "        ci_hi.append(ci_[1])\n",
    "        ci_lo.append(ci_[0])\n",
    "\n",
    "    stats['ci_hi'] = ci_hi\n",
    "    stats['ci_lo'] = ci_lo\n",
    "    return stats\n",
    "\n",
    "stats = result[['DL_bitrate','tracer']].groupby(['tracer']).agg(['mean', 'count', 'std'])\n",
    "ci = 0.95\n",
    "stats = conf_intervals(stats,ci=0.95)\n",
    "print(stats)\n",
    "\n",
    "\n",
    "fig, bar = plt.subplots(figsize = (11,7))\n",
    "ax = sns.barplot(x=\"tracer\", y=\"DL_bitrate\", data=result,\n",
    "                 capsize=.05,ci=ci*100,errwidth=0.7)\n",
    "ax.set_xlabel(\"traces\")\n",
    "ax.set_ylabel(\"BW(kbps)\")\n",
    "plt.show()"
   ]
  },
  {
   "cell_type": "code",
   "execution_count": 45,
   "id": "9007cec2",
   "metadata": {},
   "outputs": [
    {
     "data": {
      "text/plain": [
       "2205.5784753363228"
      ]
     },
     "execution_count": 45,
     "metadata": {},
     "output_type": "execute_result"
    }
   ],
   "source": []
  },
  {
   "cell_type": "code",
   "execution_count": 46,
   "id": "ee372125",
   "metadata": {},
   "outputs": [
    {
     "data": {
      "text/plain": [
       "3039.4670658682635"
      ]
     },
     "execution_count": 46,
     "metadata": {},
     "output_type": "execute_result"
    }
   ],
   "source": []
  }
 ],
 "metadata": {
  "kernelspec": {
   "display_name": "Python 3",
   "language": "python",
   "name": "python3"
  },
  "language_info": {
   "codemirror_mode": {
    "name": "ipython",
    "version": 3
   },
   "file_extension": ".py",
   "mimetype": "text/x-python",
   "name": "python",
   "nbconvert_exporter": "python",
   "pygments_lexer": "ipython3",
   "version": "3.8.8"
  }
 },
 "nbformat": 4,
 "nbformat_minor": 5
}
