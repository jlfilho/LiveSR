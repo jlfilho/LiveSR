{
 "cells": [
  {
   "cell_type": "code",
   "execution_count": 8,
   "id": "235eab33",
   "metadata": {},
   "outputs": [],
   "source": [
    "import os\n",
    "import pandas as pd\n",
    "import numpy as np\n",
    "from datetime import datetime\n",
    "\n",
    "\n",
    "FILE_SIZE = 2000\n",
    "BYTES_PER_PKT = 1500.0*8\n",
    "MILLISEC_IN_SEC = 1000.0\n",
    "EXP_LEN = None  # millisecond\n",
    "\n",
    "def maker_trace(IN_FILE = None,OUT_FILE = None):\n",
    "    files = os.listdir(IN_FILE)\n",
    "    for trace_file in files:\n",
    "        if os.stat(IN_FILE + trace_file).st_size >= FILE_SIZE:\n",
    "            df = pd.read_csv(IN_FILE + trace_file)\n",
    "            with open(OUT_FILE + trace_file, 'w') as mf:\n",
    "                millisec_time = 0\n",
    "                mf.write(str(millisec_time) + '\\n')\n",
    "                for i in range(1,len(df.DL_bitrate)):\n",
    "                    throughput = (float(df.DL_bitrate[i])*1000)\n",
    "                    time_prev = df.Timestamp[i-1].replace(\".\",\"-\",2).replace(\".\",\":\",2).replace(\"_\",\" \")\n",
    "                    time_cur = df.Timestamp[i].replace(\".\",\"-\",2).replace(\".\",\":\",2).replace(\"_\",\" \")\n",
    "                    time_prev = datetime.timestamp(datetime.fromisoformat(time_prev))\n",
    "                    time_cur = datetime.timestamp(datetime.fromisoformat(time_cur))\n",
    "                    EXP_LEN = (time_cur - time_prev)*1000\n",
    "                    #print(\"EXP_LEN: {}\".format(EXP_LEN))\n",
    "                    #timestamp = df.Timestamp[i]\n",
    "                    #print(\"throughput: {}\".format(throughput))\n",
    "                    pkt_per_millisec = throughput / BYTES_PER_PKT / MILLISEC_IN_SEC\n",
    "                    #print(\"pkt_per_millisec: {}\".format(pkt_per_millisec))\n",
    "                    millisec_count = 0\n",
    "                    pkt_count = 0\n",
    "                    while True:\n",
    "                        millisec_count += 1\n",
    "                        millisec_time += 1\n",
    "                        to_send = (millisec_count * pkt_per_millisec) - pkt_count\n",
    "                        to_send = np.floor(to_send)\n",
    "                        #print(\"to_send: {}\".format(to_send))\n",
    "                        for i in range(int(to_send)):\n",
    "                            mf.write(str(millisec_time) + '\\n')\n",
    "                            # print(millisec_time)\n",
    "                        pkt_count += to_send\n",
    "                        if millisec_count >= EXP_LEN:\n",
    "                            break"
   ]
  },
  {
   "cell_type": "code",
   "execution_count": 10,
   "id": "ed5c2390",
   "metadata": {},
   "outputs": [],
   "source": [
    "IN_FILE = './LTE_Dataset/Dataset/car/'\n",
    "OUT_FILE = './mahimahi/driving/'\n",
    "\n",
    "maker_trace(IN_FILE = IN_FILE,OUT_FILE=OUT_FILE)"
   ]
  }
 ],
 "metadata": {
  "kernelspec": {
   "display_name": "Python 3",
   "language": "python",
   "name": "python3"
  },
  "language_info": {
   "codemirror_mode": {
    "name": "ipython",
    "version": 3
   },
   "file_extension": ".py",
   "mimetype": "text/x-python",
   "name": "python",
   "nbconvert_exporter": "python",
   "pygments_lexer": "ipython3",
   "version": "3.8.8"
  }
 },
 "nbformat": 4,
 "nbformat_minor": 5
}
